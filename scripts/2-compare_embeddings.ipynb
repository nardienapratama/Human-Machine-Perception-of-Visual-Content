{
 "cells": [
  {
   "cell_type": "markdown",
   "id": "57ddce67",
   "metadata": {},
   "source": [
    "# Script to Compare Embeddings\n",
    "\n",
    "In this notebook, we compare embeddings of the three annotation sets.\n",
    "\n",
    "Author: Nardiena A. Pratama"
   ]
  },
  {
   "cell_type": "code",
   "execution_count": null,
   "id": "7ed5e9c5-50ca-41af-850c-32f89efc2406",
   "metadata": {
    "scrolled": true
   },
   "outputs": [],
   "source": [
    "!pip install wandb seaborn \n",
    "# !pip install 'accelerate==0.31.0'\n",
    "!pip install 'sentence-transformers==3.0.1'"
   ]
  },
  {
   "cell_type": "code",
   "execution_count": null,
   "id": "20590111-2ea7-4cae-9ecc-116051cc8827",
   "metadata": {},
   "outputs": [],
   "source": [
    "!pip install wordsegment autocorrect \n",
    "!pip install spacy==3.8.0\n",
    "!python -m spacy download en_core_web_trf"
   ]
  },
  {
   "cell_type": "code",
   "execution_count": null,
   "id": "92ff927a-8ffc-4f76-adea-05d9c5ad3162",
   "metadata": {},
   "outputs": [],
   "source": [
    "from sentence_transformers import SentenceTransformer\n",
    "\n",
    "import boto3\n",
    "from io import StringIO, BytesIO\n",
    "import pandas as pd\n",
    "import seaborn as sns\n",
    "import matplotlib.pyplot as plt\n",
    "\n",
    "from helper_scripts.utility_functions import *\n",
    "from helper_scripts.preprocess import *"
   ]
  },
  {
   "cell_type": "markdown",
   "id": "c4dcab58",
   "metadata": {},
   "source": [
    "## Set AWS Credentials\n",
    "\n",
    "Do not put quotation marks around the value."
   ]
  },
  {
   "cell_type": "code",
   "execution_count": null,
   "id": "ed38f2aa",
   "metadata": {},
   "outputs": [],
   "source": [
    "%env BUCKET_NAME=aws_bucket_name"
   ]
  },
  {
   "cell_type": "markdown",
   "id": "414d6a7e",
   "metadata": {},
   "source": [
    "## Connect to AWS"
   ]
  },
  {
   "cell_type": "code",
   "execution_count": null,
   "id": "b988c54c-2ddc-4508-adad-acf6fcc010c6",
   "metadata": {},
   "outputs": [],
   "source": [
    "# Create a session using the default credentials (IAM role attached to the instance)\n",
    "session = boto3.Session()\n",
    "\n",
    "# Create an S3 client\n",
    "s3 = session.client('s3')\n",
    "\n",
    "# Specify your bucket name\n",
    "bucket_name = os.getenv('BUCKET_NAME')\n"
   ]
  },
  {
   "cell_type": "code",
   "execution_count": null,
   "id": "a3d32a7a-5ee4-48c8-9c34-a0430c47af09",
   "metadata": {
    "scrolled": true
   },
   "outputs": [],
   "source": [
    "model_name = \"finetuning_all-MiniLM-L12-v2_embeddings\" # finetuning - minilm 12 5 epochs\n",
    "\n",
    "\n",
    "key = f\"/data/outputs_50/{model_name}.csv\"\n",
    "response = s3.get_object(Bucket=bucket_name, Key=key)\n",
    "csv_content = response['Body'].read().decode('utf-8')\n",
    "data = pd.read_csv(StringIO(csv_content))\n",
    "data.rename(columns={\"ml_captions\": \"ml_caption_labels\", \"ml_labels\": \"ml_object_labels\"}, inplace=True)\n",
    "\n",
    "data"
   ]
  },
  {
   "cell_type": "code",
   "execution_count": null,
   "id": "4560654e-03bc-48bb-bd9e-05e5118ecf31",
   "metadata": {},
   "outputs": [],
   "source": [
    "download_from_s3 = False\n",
    "\n",
    "model_path = \"models/finetuning_all-MiniLM-L12-v2/v1\"        # finetuned - minilm 12 - 5 epochs\n",
    "\n",
    "if download_from_s3:\n",
    "    # Parameters\n",
    "    s3_model_path = f\"/data/outputs_50/{model_path}\"  # Path in S3 bucket\n",
    "    \n",
    "    # Download model files from S3\n",
    "    download_model_from_s3(bucket_name, s3_model_path, model_path)\n",
    "\n",
    "\n",
    "model = SentenceTransformer(model_path)\n",
    "print(model_path)"
   ]
  },
  {
   "cell_type": "code",
   "execution_count": null,
   "id": "fb653be4-a87f-419e-87b5-27807913bac4",
   "metadata": {
    "scrolled": true
   },
   "outputs": [],
   "source": [
    "data['obj_capt_sim'] = data.apply(lambda x: compare_embedding_similarity(x, 'ml_object_labels', 'ml_caption_labels', model), axis=1)\n",
    "data['obj_human_sim'] = data.apply(lambda x: compare_embedding_similarity(x, 'ml_object_labels', 'human_labels', model), axis=1)\n",
    "data['capt_human_sim'] = data.apply(lambda x: compare_embedding_similarity(x, 'ml_caption_labels', 'human_labels', model), axis=1)\n",
    "data_embed = data.copy()"
   ]
  },
  {
   "cell_type": "code",
   "execution_count": null,
   "id": "00c75de4-0b1c-41bf-be19-e84bb4954683",
   "metadata": {},
   "outputs": [],
   "source": [
    "csv_buffer = StringIO()\n",
    "data_embed.to_csv(csv_buffer, index=False)\n",
    "\n",
    "\n",
    "file_path = f\"/data/outputs_50/{model_name}_comparison.csv\"\n",
    "\n",
    "print(f\"DataFrame saved as CSV and uploaded to {file_path} successfully.\")\n"
   ]
  },
  {
   "cell_type": "code",
   "execution_count": null,
   "id": "ecf45bb6-0736-4d59-8cb9-76d4af30fc95",
   "metadata": {
    "scrolled": true
   },
   "outputs": [],
   "source": [
    "key = f\"/data/outputs_50/{model_name}_comparison.csv\"\n",
    "print(key)\n",
    "response = s3.get_object(Bucket=bucket_name, Key=key)\n",
    "csv_content = response['Body'].read().decode('utf-8')\n",
    "data = pd.read_csv(StringIO(csv_content))\n",
    "# Read the embedding columns as arrays\n",
    "data[\"ml_object_embed\"]= data.apply(lambda x: convert_str_to_array(x[\"ml_object_embed\"]), axis=1)\n",
    "data[\"ml_caption_embed\"]= data.apply(lambda x: convert_str_to_array(x[\"ml_caption_embed\"]), axis=1)\n",
    "data[\"human_embed\"]= data.apply(lambda x: convert_str_to_array(x[\"human_embed\"]), axis=1)\n",
    "data"
   ]
  },
  {
   "cell_type": "code",
   "execution_count": null,
   "id": "e18f909a-f534-4d38-a190-55db18a04db6",
   "metadata": {},
   "outputs": [],
   "source": [
    "data[\"ml_object_embed\"].iloc[0].shape"
   ]
  },
  {
   "cell_type": "markdown",
   "id": "412f766c-6b80-4e5f-a974-64cca925ecad",
   "metadata": {},
   "source": [
    "## Univariate Analysis"
   ]
  },
  {
   "cell_type": "markdown",
   "id": "07d86f03-ee22-449e-bb4d-863adb3b976f",
   "metadata": {},
   "source": [
    "### ML Objects VS ML Captions"
   ]
  },
  {
   "cell_type": "code",
   "execution_count": null,
   "id": "874a0c0b-0412-4eff-91c3-02b27e2a0dbb",
   "metadata": {},
   "outputs": [],
   "source": [
    "data['obj_capt_sim'].describe()"
   ]
  },
  {
   "cell_type": "code",
   "execution_count": null,
   "id": "97aca2d7-4556-4f06-8345-134ea5aa9143",
   "metadata": {},
   "outputs": [],
   "source": [
    "data['obj_capt_sim'].plot(kind=\"hist\", title=\"Similarity Histogram: ML Objects and ML Captions\")\n",
    "\n",
    "# Add labels or customize as needed\n",
    "plt.xlabel(\"Similarity\")\n",
    "plt.ylabel(\"Frequency\")\n",
    "\n",
    "# Save the figure\n",
    "plt.savefig(\"figs/obj_capt_sim_histogram.svg\", dpi=300)\n",
    "plt.savefig(\"figs/obj_capt_sim_histogram.png\", dpi=300)\n",
    "\n",
    "plt.show()"
   ]
  },
  {
   "cell_type": "markdown",
   "id": "1668f592-9a30-4e7b-a7b7-6b6a242e1049",
   "metadata": {},
   "source": [
    "### ML Objects VS Human Labels"
   ]
  },
  {
   "cell_type": "code",
   "execution_count": null,
   "id": "2fe73ffd-27b9-4859-a578-4a624a35b038",
   "metadata": {},
   "outputs": [],
   "source": [
    "data['obj_human_sim'].describe()"
   ]
  },
  {
   "cell_type": "code",
   "execution_count": null,
   "id": "62f8c964-1106-4608-9b05-018ff52ec3d4",
   "metadata": {},
   "outputs": [],
   "source": [
    "data['obj_human_sim'].plot(kind=\"hist\", title=\"Similarity Histogram: ML Objects and Human Labels\")\n",
    "\n",
    "# Add labels or customize as needed\n",
    "plt.xlabel(\"Similarity\")\n",
    "plt.ylabel(\"Frequency\")\n",
    "\n",
    "# Save the figure\n",
    "plt.savefig(\"figs/obj_human_sim_histogram.svg\", dpi=300)\n",
    "plt.savefig(\"figs/obj_human_sim_histogram.png\", dpi=300)\n",
    "\n",
    "plt.show()"
   ]
  },
  {
   "cell_type": "markdown",
   "id": "cdfcaa7d-f48b-4be5-84b2-163f3bd836a3",
   "metadata": {},
   "source": [
    "### ML Captions VS Human Labels"
   ]
  },
  {
   "cell_type": "code",
   "execution_count": null,
   "id": "8620305b-37d1-4e47-bdfd-e260c2779790",
   "metadata": {},
   "outputs": [],
   "source": [
    "data['capt_human_sim'].describe()"
   ]
  },
  {
   "cell_type": "code",
   "execution_count": null,
   "id": "82607f3d-bcae-44df-940a-638aeea40c90",
   "metadata": {},
   "outputs": [],
   "source": [
    "data['capt_human_sim'].plot(kind=\"hist\", title=\"Similarity Histogram: ML Captions and Human Labels\")\n",
    "\n",
    "# Add labels or customize as needed\n",
    "plt.xlabel(\"Similarity\")\n",
    "plt.ylabel(\"Frequency\")\n",
    "\n",
    "# Save the figure\n",
    "plt.savefig(\"figs/capt_human_sim_histogram.svg\", dpi=300)\n",
    "plt.savefig(\"figs/capt_human_sim_histogram.png\", dpi=300)\n",
    "\n",
    "plt.show()"
   ]
  },
  {
   "cell_type": "markdown",
   "id": "f5d507ef-6dd9-44de-906b-84dc1bf3033a",
   "metadata": {},
   "source": [
    "## Multivariate Analysis"
   ]
  },
  {
   "cell_type": "code",
   "execution_count": null,
   "id": "2ec15e36-369e-4afb-91f4-871b22e5a46c",
   "metadata": {},
   "outputs": [],
   "source": [
    "data[['obj_capt_sim', 'obj_human_sim', 'capt_human_sim', 'region']]"
   ]
  },
  {
   "cell_type": "code",
   "execution_count": null,
   "id": "d23c3d3b-b71a-4622-89a6-81870893b3f1",
   "metadata": {},
   "outputs": [],
   "source": [
    "axis_limits = (0, 1)\n",
    "g = sns.pairplot(data[['obj_capt_sim', 'obj_human_sim', 'capt_human_sim', 'region']], \n",
    "             hue='region', \n",
    "             kind='scatter',\n",
    "            aspect=1\n",
    "             )\n",
    "sns.move_legend(\n",
    "    g, \"lower center\",\n",
    "    bbox_to_anchor=(.5, -0.01),  # Position the legend\n",
    "    ncol=4,  # Number of columns in the legend\n",
    "    title=None,  # No title\n",
    "    frameon=False,  # No frame around the legend\n",
    "    fontsize=18,  # Adjust the font size as needed\n",
    "    markerscale=2  # Adjust the size of the legend icons (e.g., 2x larger)\n",
    ")\n",
    "\n",
    "\n",
    "# Define custom axis labels for each subplot\n",
    "custom_xlabels = ['ML Obj & ML Captions', 'ML Obj & Human Labels', 'ML Captions & Human Labels']\n",
    "custom_ylabels = ['ML Obj & ML Captions', 'ML Obj & Human Labels', 'ML Captions & Human Labels']\n",
    "\n",
    "# # Iterate over the axes grid and set the new axis labels\n",
    "for i in range(3):  # Iterate over the rows\n",
    "    for j in range(3):  # Iterate over the columns\n",
    "        g.axes[i, j].set_xlabel(custom_xlabels[j], fontsize=18)  # Set custom x labels\n",
    "        g.axes[i, j].set_ylabel(custom_ylabels[i], fontsize=18)  # Set custom y labels\n",
    "\n",
    "\n",
    "\n",
    "for ax in g.axes.flatten():\n",
    "    ax.set_xlim(0, 1)\n",
    "    ax.set_ylim(0, 1)\n",
    "    ax.set_xlabel(ax.get_xlabel(), fontsize=18)  # Change the x-axis label font size\n",
    "    ax.set_ylabel(ax.get_ylabel(), fontsize=18)  # Change the y-axis label font size\n",
    "    ax.tick_params(axis='both', which='major', labelsize=14)  # Change the tick label font size\n",
    "\n",
    "\n",
    "plt.tight_layout()\n",
    "\n",
    "# Set figure size\n",
    "plt.gcf().set_size_inches(14, 14)\n",
    "\n",
    "plt.savefig(f\"figs/{model_name}_pairwise_similarity_plot.svg\", dpi=300)\n",
    "plt.savefig(f\"figs/{model_name}_pairwise_similarity_plot.png\", dpi=300)\n",
    "\n",
    "# Ensure layout updates\n",
    "plt.show()\n"
   ]
  },
  {
   "cell_type": "code",
   "execution_count": null,
   "id": "0ebf3e93-d085-4618-9f4c-7dfe5c4a0e0f",
   "metadata": {},
   "outputs": [],
   "source": [
    "subset = data[['obj_capt_sim', 'obj_human_sim', 'capt_human_sim','region']].copy()\n",
    "\n",
    "b = sns.boxplot(data=subset, x ='obj_capt_sim',  hue='region')\n",
    "b.set_xlim(0, 1)\n",
    "\n",
    "# plt.gcf().set_size_inches(12, 12)\n",
    "\n",
    "plt.tight_layout()\n",
    "\n",
    "\n",
    "plt.savefig(f\"figs/{model_name}_obj_capt_sim_boxplot.svg\", dpi=300)\n",
    "plt.savefig(f\"figs/{model_name}_obj_capt_sim_boxplot.png\", dpi=300)\n",
    "\n",
    "plt.show()"
   ]
  },
  {
   "cell_type": "code",
   "execution_count": null,
   "id": "7dc27416-cea1-4f0b-ae9a-59106e6298a3",
   "metadata": {},
   "outputs": [],
   "source": [
    "b = sns.boxplot(data=subset, x ='obj_human_sim',  hue='region')\n",
    "b.set_xlim(0, 1)\n",
    "\n",
    "# plt.gcf().set_size_inches(12, 12)\n",
    "\n",
    "plt.tight_layout()\n",
    "\n",
    "\n",
    "plt.savefig(f\"figs/{model_name}_obj_human_sim_boxplot.svg\", dpi=300)\n",
    "plt.savefig(f\"figs/{model_name}_obj_human_sim_boxplot.png\", dpi=300)\n",
    "\n",
    "plt.show()\n"
   ]
  },
  {
   "cell_type": "code",
   "execution_count": null,
   "id": "f8ef7065-8477-4bb2-918c-3e6f4efe14a5",
   "metadata": {},
   "outputs": [],
   "source": [
    "b = sns.boxplot(data=subset, x ='capt_human_sim',  hue='region')\n",
    "b.set_xlim(0, 1)\n",
    "\n",
    "# plt.gcf().set_size_inches(12, 12)\n",
    "\n",
    "plt.tight_layout()\n",
    "\n",
    "\n",
    "plt.savefig(f\"figs/{model_name}_capt_human_sim_boxplot.svg\", dpi=300)\n",
    "plt.savefig(f\"figs/{model_name}_capt_human_sim_boxplot.png\", dpi=300)\n",
    "\n",
    "plt.show()"
   ]
  },
  {
   "cell_type": "markdown",
   "id": "17a50943-2095-44a0-a1df-5c33cf64cc08",
   "metadata": {},
   "source": [
    "# END"
   ]
  }
 ],
 "metadata": {
  "kernelspec": {
   "display_name": "Python 3 (ipykernel)",
   "language": "python",
   "name": "python3"
  },
  "language_info": {
   "codemirror_mode": {
    "name": "ipython",
    "version": 3
   },
   "file_extension": ".py",
   "mimetype": "text/x-python",
   "name": "python",
   "nbconvert_exporter": "python",
   "pygments_lexer": "ipython3",
   "version": "3.11.10"
  }
 },
 "nbformat": 4,
 "nbformat_minor": 5
}
